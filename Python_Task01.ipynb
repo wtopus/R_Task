{
 "cells": [
  {
   "cell_type": "markdown",
   "metadata": {},
   "source": [
    "##⑴ a=\"Hello Python\" 문자열을 Slicing과 연결 연산자 (+)를 사용하여 \"Python Hello\"로 변경하시오.\n",
    "◎[주의] a 변수 자체에 \"Python Hello\" 문자열이 저장되어야 함"
   ]
  },
  {
   "cell_type": "code",
   "execution_count": 2,
   "metadata": {
    "collapsed": false
   },
   "outputs": [
    {
     "name": "stdout",
     "output_type": "stream",
     "text": [
      "Python Hello\n"
     ]
    }
   ],
   "source": [
    "a=\"Hello Python\"\n",
    "s1 = \" \" + a[0:5] \n",
    "s2 = a[6:12]\n",
    "a = s2 + s1\n",
    "print a"
   ]
  },
  {
   "cell_type": "markdown",
   "metadata": {},
   "source": [
    "### 문자열 s1이 \"Hello\" 가리키고, s2 가\"Python\" 가리킨다. s2+s1 을 a가 가리킨다 , a출력 "
   ]
  },
  {
   "cell_type": "markdown",
   "metadata": {},
   "source": [
    "##⑵ b=\"Hello Python World\" 문자열을 Slicing과 연결 연산자 (+)를 사용하여 \"World Python Hello\"로 변경하시오. \n",
    "◎[주의] b 변수 자체에 \"Python Hello\" 문자열이 저장되어야 함\n"
   ]
  },
  {
   "cell_type": "code",
   "execution_count": 3,
   "metadata": {
    "collapsed": false
   },
   "outputs": [
    {
     "name": "stdout",
     "output_type": "stream",
     "text": [
      "World Python Hello\n"
     ]
    }
   ],
   "source": [
    "b = \"Hello Python World\"\n",
    "s1 = \" \" + b[0:5]\n",
    "s2 = \" \" + b[6:12] \n",
    "s3 = b[13:18]\n",
    "b = s3 + s2 + s1\n",
    "print b"
   ]
  },
  {
   "cell_type": "markdown",
   "metadata": {},
   "source": [
    "### s1 이 \"Hello\" 가리키고 , s2 가 \"Python\"가리키고 s3가 \"World\" 가리킨다,\n",
    "###     s3+ s2 +s1 합친것을 b 가 가리키게 하고        출력"
   ]
  },
  {
   "cell_type": "markdown",
   "metadata": {},
   "source": [
    "##⑶ c=\"Hello\"를 \"olleH\"로 변경하시오.\n",
    "◎[주의] c 변수 자체에 \"olleH\" 문자열이 저장되어야 함"
   ]
  },
  {
   "cell_type": "code",
   "execution_count": 4,
   "metadata": {
    "collapsed": false
   },
   "outputs": [
    {
     "name": "stdout",
     "output_type": "stream",
     "text": [
      "olleH\n"
     ]
    }
   ],
   "source": [
    "c = \"Hello\"\n",
    "s = c[::-1]\n",
    "print s"
   ]
  },
  {
   "cell_type": "markdown",
   "metadata": {},
   "source": [
    "### c[-1] = 'o' 이다', 'o' 부터 거꾸로 출력 하면 \"olleH\""
   ]
  },
  {
   "cell_type": "markdown",
   "metadata": {},
   "source": [
    "##⑷ s=\"python\"에 대해 다음 문제를 풀어보시오.\n",
    "① s[0], s[0][0], s[0][0][0]은 각각 어떤 값이 나오는지 확인하고 그 이유를 나름대로 설명해 보시오.\n",
    "② s[-100], s[100]은 값이 나오는지 에러가 나오는지 확인하고 그 결과에 대한 이유를 나름대로 설명해 보시오.\n",
    "③ s[-100, 100]은 값이 나오는지 에러가 나오는지 확인하고 그 결과에 대한 이유를 나름대로 설명해 보시오.\n",
    "④ s[1:-1]의 결과를 확인하고 그 결과에 대한 이유를 정확하게 설명하시오.\n",
    "⑤ s[3:-3]의 결과를 확인하고 그 결과에 대한 이유를 정확하게 설명하시오."
   ]
  },
  {
   "cell_type": "code",
   "execution_count": 5,
   "metadata": {
    "collapsed": false
   },
   "outputs": [
    {
     "name": "stdout",
     "output_type": "stream",
     "text": [
      "p p p\n",
      "python\n",
      "ytho\n",
      "\n"
     ]
    }
   ],
   "source": [
    "s = \"python\"\n",
    "print s[0], s[0][0], s[0][0][0]\n",
    "print s[-100:100]\n",
    "print s[1:-1]\n",
    "print s[3:-3]"
   ]
  },
  {
   "cell_type": "code",
   "execution_count": 6,
   "metadata": {
    "collapsed": false
   },
   "outputs": [
    {
     "ename": "IndexError",
     "evalue": "string index out of range",
     "output_type": "error",
     "traceback": [
      "\u001b[1;31m---------------------------------------------------------------------------\u001b[0m",
      "\u001b[1;31mIndexError\u001b[0m                                Traceback (most recent call last)",
      "\u001b[1;32m<ipython-input-6-4ccc9d4f0dca>\u001b[0m in \u001b[0;36m<module>\u001b[1;34m()\u001b[0m\n\u001b[1;32m----> 1\u001b[1;33m \u001b[1;32mprint\u001b[0m \u001b[0ms\u001b[0m\u001b[1;33m[\u001b[0m\u001b[1;36m100\u001b[0m\u001b[1;33m]\u001b[0m\u001b[1;33m\u001b[0m\u001b[0m\n\u001b[0m\u001b[0;32m      2\u001b[0m \u001b[1;32mprint\u001b[0m \u001b[0ms\u001b[0m\u001b[1;33m[\u001b[0m\u001b[1;33m-\u001b[0m\u001b[1;36m100\u001b[0m\u001b[1;33m]\u001b[0m\u001b[1;33m\u001b[0m\u001b[0m\n",
      "\u001b[1;31mIndexError\u001b[0m: string index out of range"
     ]
    }
   ],
   "source": [
    "print s[100]\n",
    "print s[-100]"
   ]
  },
  {
   "cell_type": "markdown",
   "metadata": {},
   "source": [
    "###   1. s[0], s[0][0], s[0][0][0] 값을 출력해 보면 각각 다 p가 출력되는것을 알 수 있다.\n",
    "###   2. s[100], s[-100] 두개가 Errer 가 나온다, -> s = \"python\" 이 대입돈 s 문자열 길이는 6 이다 s[5] 이상의 값을 출력              하려거나, s[-6] 이하의 값을 출력 하려고 할 경우 Errer가 생긴다.\n",
    "###   3. 에러가 나지 않는다, 문자열 슬라이싱은 배열의 값을 축력하는 것이랑 구조가 다른 것 같다,\n",
    "###        예를 들어 s[-100:100]과 s[0:6]은 같은것 으로 인식 될 수있다, \n",
    "#     s[-100,100]란 문법없는 것 같아서 이렇게 했습니다\n",
    "###    4. s[1] = 'y' 와 같고, s[-1] = 'n' 과 같다 때문에 s[1:-1]은 문자열 s의 0번방의 값부터 5번방 전 까지 의 값과                같은 것이다\n",
    "###     5. 아무것도 나오지 않는다 -> s[3] = 'h' 이고 s[-3] = 'h' 이다 즉 3번방의 값부터 3번방 전까지의 값을 말한다. **"
   ]
  },
  {
   "cell_type": "markdown",
   "metadata": {},
   "source": [
    "##⑸ for문을 활용하여 1부터 100사이의 홀수를 출력하시오."
   ]
  },
  {
   "cell_type": "code",
   "execution_count": 7,
   "metadata": {
    "collapsed": false
   },
   "outputs": [
    {
     "name": "stdout",
     "output_type": "stream",
     "text": [
      "1 3 5 7 9 11 13 15 17 19 21 23 25 27 29 31 33 35 37 39 41 43 45 47 49 51 53 55 57 59 61 63 65 67 69 71 73 75 77 79 81 83 85 87 89 91 93 95 97 99\n"
     ]
    }
   ],
   "source": [
    "for x  in range(100):\n",
    "    if(x%2!=0):\n",
    "        print x,"
   ]
  },
  {
   "cell_type": "markdown",
   "metadata": {},
   "source": [
    "### x를 2로 나눈 나머지가 0이 아니면(나누어 떨어지지않으면) x 출력, 100이면 반복문 탈출"
   ]
  },
  {
   "cell_type": "markdown",
   "metadata": {},
   "source": [
    "##⑹ while문을 활용하여 1부터 100사이의 짝수의 합을 계산하여 출력하시오.\n"
   ]
  },
  {
   "cell_type": "code",
   "execution_count": 8,
   "metadata": {
    "collapsed": false
   },
   "outputs": [
    {
     "name": "stdout",
     "output_type": "stream",
     "text": [
      "2550\n"
     ]
    }
   ],
   "source": [
    "result = 0\n",
    "count = 0\n",
    "while count < 101:\n",
    "    if(count%2 == 0):\n",
    "        result = result + count\n",
    "        count = count + 1\n",
    "    else:\n",
    "        count = count + 1\n",
    "\n",
    "print result"
   ]
  },
  {
   "cell_type": "markdown",
   "metadata": {},
   "source": [
    "### int 형 변수 count 가 2로 나누어 떨어지면 result에 더한다, 그리고 count에 1 더한다 100 까지 반복문으로\n",
    "### 연산후에 result 출력"
   ]
  },
  {
   "cell_type": "markdown",
   "metadata": {},
   "source": [
    "##⑺ 사용자로 부터 임의의 정수를 입력받고, 해당 숫자를 역순으로 출력하는 프로그램을 작성하시오.\n",
    "[실행 예]\n",
    "정수를 입력하세요: 3125\n",
    "숫자 역순은 5213 입니다."
   ]
  },
  {
   "cell_type": "code",
   "execution_count": 10,
   "metadata": {
    "collapsed": false
   },
   "outputs": [
    {
     "name": "stdout",
     "output_type": "stream",
     "text": [
      "input number13579\n",
      "97531\n"
     ]
    }
   ],
   "source": [
    "input_N = raw_input('input number')\n",
    "b = input_N[::-1]\n",
    "print b"
   ]
  },
  {
   "cell_type": "markdown",
   "metadata": {},
   "source": [
    "### input_N 임의의 숫자받는다(여기서는 13579) , input_N이 문자열 이기 때문에 슬라이싱 계산 해서 반대로 출력한다"
   ]
  },
  {
   "cell_type": "markdown",
   "metadata": {},
   "source": [
    "##⑻ 사용자로 부터 정수를 입력받아서 1부터 그 사이에 존재하는 소수 (Prime number)를 출력하는 파이썬 프로그램을 작성하시오."
   ]
  },
  {
   "cell_type": "code",
   "execution_count": 14,
   "metadata": {
    "collapsed": false
   },
   "outputs": [
    {
     "name": "stdout",
     "output_type": "stream",
     "text": [
      "input number57\n",
      "2 3 5 7 11 13 17 19 23 29 31 37 41 43 47 53\n"
     ]
    }
   ],
   "source": [
    "i_Num = input(\"input number\")\n",
    "for x in range(1,i_Num):\n",
    "    count = 0\n",
    "    for y in range(1, x+1):\n",
    "        if(x%y==0):\n",
    "            count  = count + 1\n",
    "    if count==2:\n",
    "        print x,"
   ]
  },
  {
   "cell_type": "markdown",
   "metadata": {},
   "source": [
    "### i_Num에 임의 정수 받고,  1부터 i_Num까지 중 1과 자기 자신만으로 나누어 떨어지면(소수) ->count == 2 이면\n",
    "### x(소수) 를 출력 한다"
   ]
  },
  {
   "cell_type": "markdown",
   "metadata": {},
   "source": [
    "#(9)[프로젝트 오일러 문제 1]\n",
    "#10보다 작은 자연수 중에서 3 또는 5의 배수는 3, 5, 6, 9 이고, 이것을 모두 더하면 23입니다.\n",
    "\n",
    "##1000보다 작은 자연수 중에서 3 또는 5의 배수를 모두 더하면 얼마일까요?"
   ]
  },
  {
   "cell_type": "code",
   "execution_count": 15,
   "metadata": {
    "collapsed": false
   },
   "outputs": [
    {
     "name": "stdout",
     "output_type": "stream",
     "text": [
      "233168\n"
     ]
    }
   ],
   "source": [
    "result = 0\n",
    "for x in range(1000):\n",
    "    if (x%3==0) or (x%5==0):\n",
    "        result += x\n",
    "print result"
   ]
  },
  {
   "cell_type": "markdown",
   "metadata": {},
   "source": [
    "### 1000보다 작은 자연수중 3으로 나누어 떨어지거나 5로 나누어 떨어지는 or 연산 해주고 result에 다 더한다\n",
    "### result 출력"
   ]
  },
  {
   "cell_type": "markdown",
   "metadata": {},
   "source": [
    "#⑽ [프로젝트 오일러 문제 2]\n",
    "#피보나치 수열의 각 항은 바로 앞의 항 두 개를 더한 것이 됩니다. 1과 2로 시작하는 경우 이 수열은 아래와 같습니다.\n",
    "\n",
    "##1, 2, 3, 5, 8, 13, 21, 34, 55, 89, ... 짝수이면서 4백만 이하인 모든 항을 더하면 얼마가 됩니까?"
   ]
  },
  {
   "cell_type": "code",
   "execution_count": 16,
   "metadata": {
    "collapsed": false
   },
   "outputs": [
    {
     "name": "stdout",
     "output_type": "stream",
     "text": [
      "4613732\n"
     ]
    }
   ],
   "source": [
    "f_num1 = 0\n",
    "f_num2 = 1\n",
    "result = 0\n",
    "while result < 4000000:\n",
    "    c = f_num1 + f_num2\n",
    "    f_num1 = f_num2\n",
    "    f_num2 = c\n",
    "    if(c%2==0):\n",
    "        result = result + c\n",
    "print result"
   ]
  },
  {
   "cell_type": "markdown",
   "metadata": {},
   "source": [
    "### 3부터 피보나치 수열 규칙 적용 앞의 두항 거한것이 수열 값이다, 수열 값중 짝수이면 result에 다 더하고 \n",
    "### result 값이 4000000넘어 가면 반복문 탈출 result 출력"
   ]
  },
  {
   "cell_type": "markdown",
   "metadata": {},
   "source": [
    "#⑾ [프로젝트 오일러 문제 3]\n",
    "#어떤 수를 소수의 곱으로만 나타내는 것을 소인수분해라 하고, 이 소수들을 그 수의 소인수라고 합니다.\n",
    "## 예를 들면 13195의 소인수는 5, 7, 13, 29 입니다.\n",
    "## 600851475143의 소인수 중에서 가장 큰 수를 구하세요."
   ]
  },
  {
   "cell_type": "code",
   "execution_count": 18,
   "metadata": {
    "collapsed": false
   },
   "outputs": [
    {
     "name": "stdout",
     "output_type": "stream",
     "text": [
      "[71, 839, 1471, 6857]\n",
      "6857\n"
     ]
    }
   ],
   "source": [
    "def primefactors(num):\n",
    "  startnum=2\n",
    "  primeNumbers=list()\n",
    "  \n",
    "  quota=0\n",
    "  rest=0\n",
    "  \n",
    "  while True:\n",
    "    quota=num/startnum\n",
    "    rest=num%startnum\n",
    "    \n",
    "    if rest==0:\n",
    "      primeNumbers.append(startnum)\n",
    "      startnum=2\n",
    "      num=quota\n",
    "    else:\n",
    "      startnum=startnum+1\n",
    "      \n",
    "    if quota==1 and rest==0:\n",
    "      break\n",
    "  \n",
    "  return primeNumbers\n",
    "\n",
    "primeNumbers=primefactors(600851475143)\n",
    "print (primeNumbers)\n",
    "\n",
    "primeNumbers.sort(reverse=True)\n",
    "print (primeNumbers[0])"
   ]
  },
  {
   "cell_type": "markdown",
   "metadata": {},
   "source": [
    "### num = 600851475143의 소인수 ,먼저 인수 인지 확인하고(num을 나눠서 나머지 ==0) 인수이면 소수인지 확인\n",
    "### 인수 이면서 소수 인 값중에 큰값 출력"
   ]
  },
  {
   "cell_type": "markdown",
   "metadata": {},
   "source": [
    "# 프로젝트 오일러 어려워서 많이 힘들었지만\n",
    "# 열심히 해보았습니다 "
   ]
  }
 ],
 "metadata": {
  "kernelspec": {
   "display_name": "Python 2",
   "language": "python",
   "name": "python2"
  },
  "language_info": {
   "codemirror_mode": {
    "name": "ipython",
    "version": 2
   },
   "file_extension": ".py",
   "mimetype": "text/x-python",
   "name": "python",
   "nbconvert_exporter": "python",
   "pygments_lexer": "ipython2",
   "version": "2.7.9"
  }
 },
 "nbformat": 4,
 "nbformat_minor": 0
}
