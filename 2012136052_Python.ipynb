{
 "cells": [
  {
   "cell_type": "markdown",
   "metadata": {},
   "source": [
    "##[1번문제] 다음 6 개의 Expression에 대해 Evaluation 결과 값을 출력하고, 해당 결과가 나온 이유에 대해 설명하시오\n",
    "1 and 2 and 3 and 4\n",
    "1 or 2 or 3 or 4\n",
    "1 and 2 or 3 and 4\n",
    "(1 and 2) or (3 and 4)\n",
    "1 or 2 and 3 or 4\n",
    "(1 or 2) and (3 or 4)"
   ]
  },
  {
   "cell_type": "code",
   "execution_count": 1,
   "metadata": {
    "collapsed": false
   },
   "outputs": [
    {
     "name": "stdout",
     "output_type": "stream",
     "text": [
      "4\n",
      "1\n",
      "2\n",
      "2\n",
      "1\n",
      "3\n"
     ]
    }
   ],
   "source": [
    "print 1 and 2 and 3 and 4\n",
    "print 1 or 2 or 3 or 4\n",
    "print 1 and 2 or 3 and 4\n",
    "print (1 and 2) or (3 and 4)\n",
    "print 1 or 2 and 3 or 4\n",
    "print(1 or 2) and (3 or 4)"
   ]
  },
  {
   "cell_type": "markdown",
   "metadata": {},
   "source": [
    "####[주석] x and y 평가에 있어서, x가 거짓으로 판명되면 그것을 반환하고, 그렇지 않은 경우에는 y를 평가하여 결과값을 반환\n",
    "####x or y 평가에 있어서, x가 참으로 판명되면 그것을 반환하고, 그렇지 않은 경우에는 y를 평가하여 결과값을 반환한다.\n",
    "#### 1 and 2 and 3 and 4 -> and 연산 참일 경우 오른쪽 값 반환 -->> 4\n",
    "#### 1 or 2 or 3 or 4 -> or 연산 참일 경우 왼쪽 반환 -->> 1\n",
    "#### and ,or 연산자 섞여 있는 경우 and 연산자가 우선된다 1 and 2 or 3 and 4 -> 2 or 4 -->> 2\n",
    "#### (1 and 2) or (3 and 4) -> 괄호 먼저 연산한다 -->> 2\n",
    "#### 1 or 2 and 3 or 4 -> and 연산자 우선한다 -->> 1\n",
    "#### (1 or 2) and (3 or 4) -> 괄호 먼저 연산한다 -->> 3"
   ]
  },
  {
   "cell_type": "markdown",
   "metadata": {},
   "source": [
    "##[2번문제] 키보드로 정수값을 입력 받고 그 값이 양수인지 음수인지를 비트 연산자를 이용하여 판단하는 프로그램을 작성하시오.[참고] 가장 왼쪽에 있는 비트가 0이면 양수이며, 1이면 음수이다."
   ]
  },
  {
   "cell_type": "code",
   "execution_count": 10,
   "metadata": {
    "collapsed": false
   },
   "outputs": [
    {
     "name": "stdout",
     "output_type": "stream",
     "text": [
      "input integer\n",
      "-35\n",
      "-\n"
     ]
    }
   ],
   "source": [
    "iNum = input('input integer\\n')\n",
    "c = 0b1<<31\n",
    "b = c&iNum\n",
    "if(int(bin(b)[2])):\n",
    "    print '-'\n",
    "else:\n",
    "    print '+'    \n"
   ]
  },
  {
   "cell_type": "markdown",
   "metadata": {},
   "source": [
    "####[주석] iNum에 정수 받아와서 넣는다 (ex -35) \n",
    "#### c에 이진수 1을 31번 왼쪽으로 밀어 최상위 비트가 음수가 되게 한다\n",
    "#### 받아온 정수 iNum과 c and비트 연산 해서 최상위 비트가 1이면 if 문 참이여서  '-' 출력하고 아닌경우 양수여서 '+'출력한다"
   ]
  },
  {
   "cell_type": "markdown",
   "metadata": {},
   "source": [
    "##[3번문제] 경로에 해당하는 문자열 1개를 입력 받아 그 안에 디렉토리 경로명과 파일명을 분리하여 리스트로 반환하는 함수 div_path(s)를 작성하시오.\n",
    "인자로 전달하는 문자열은 경로만 들어간다고 가정한다.\n",
    "각 디렉토리와 파일을 구분하는 문자는 '/'로 가정한다.\n",
    "반환하는 리스트의 첫번째 원소는 디렉토리이고 두번째 원소는 파일명이다.\n",
    "다음과 같은 실행 및 출력 결과가 도출되어야 한다.\n",
    "\n",
    "div_path('/usr/local/bin/python')\n",
    "['/usr/local/bin', 'python']\n",
    "div_path('/home/chulsoo/test.txt')\n",
    "['/home/chulsoo', 'test.txt']\n",
    "[참고] 리스트(l) 내에 새로운 정수값 (예를 들어 10)을 넣는 방법은 l.append(10) 이다."
   ]
  },
  {
   "cell_type": "code",
   "execution_count": 24,
   "metadata": {
    "collapsed": false
   },
   "outputs": [
    {
     "name": "stdout",
     "output_type": "stream",
     "text": [
      "['/usr/local/bin', 'python']\n"
     ]
    }
   ],
   "source": [
    "def div_path(a)  :\n",
    "    k = 0\n",
    "    line = []\n",
    "    temp = ''\n",
    "    \n",
    "    while(a.find('/',k) != -1)  :\n",
    "        k = a.find('/',k) + 1              \n",
    "    \n",
    "    temp = temp + a[:k-1]                  \n",
    "    line.append(temp)\n",
    "    temp = ''\n",
    "    temp = temp + a[k:]\n",
    "    line.append(temp)\n",
    "    print line\n",
    "       \n",
    "path = '/usr/local/bin/python'    \n",
    "div_path(path)"
   ]
  },
  {
   "cell_type": "markdown",
   "metadata": {},
   "source": [
    "####[주석] 반복문 돌려서 찾아낸 주소값 자체를 i에 넣고 다시 반복문 돌면 거기서부터 다시 시작, 못찾을때까지 반복\n",
    "#### 따로따로 떨어져 나오는데 append로 다 연결해준다"
   ]
  },
  {
   "cell_type": "markdown",
   "metadata": {},
   "source": [
    "##[4번문제] 두 개의 리스트를 인자로 받아서 그 두 개의 리스트에 대한 '합집합'을 반환하는 함수 list_union(lista, listb)를 작성하시오.\n",
    "인자로 전달하는 리스트 2 개에는 정수값만 들어간다고 가정하자.\n",
    "함수 내에서 새로운 리스트를 만들어 그 리스트 내에 인자로 받은 두 리스트의 모든 원소를 넣어 반환한다.\n",
    "반환하는 리스트에는 절대로 중복된 원소가 들어 있으면 안된다 (집합의 조건).\n",
    "반환하는 리스트는 정렬이 되어 있어야 한다.\n",
    "다음과 같은 실행 및 출력 결과가 도출되어야 한다.\n",
    "list_union([1, 2, 3], [1, 2, 4])\n",
    "[1, 2, 3, 4]\n",
    "list_union([-10, -5, 0, -1], [100, 9, 0, 9])\n",
    "[-10, -5, -1, 0, 9, 100]\n",
    "list_union([0, 1, 2], [0, 1, 2])\n",
    "[0, 1, 2]\n",
    "[참고] 리스트(l) 내에 새로운 정수값 (예를 들어 10)을 넣는 방법은 l.append(10) 이다.\n",
    "[참고] 임의의 정수값 (x)이 리스트 (l) 내에 존재하는지 판단하는 방법은 x in l 이다."
   ]
  },
  {
   "cell_type": "code",
   "execution_count": 25,
   "metadata": {
    "collapsed": false
   },
   "outputs": [
    {
     "name": "stdout",
     "output_type": "stream",
     "text": [
      "[-10, -5, -1, 0, 9, 100]\n"
     ]
    }
   ],
   "source": [
    "def list_union(a,b):\n",
    "    \n",
    "    line=a\n",
    "    for i in range(0,len(line)):\n",
    "        for x in range(0,len(b)):\n",
    "            if(a[i]==b[x]):\n",
    "                for j in range(x,len(b)-1):\n",
    "                    b[j]=b[j+1]\n",
    "                else:\n",
    "                    continue\n",
    "    \n",
    "    line= line+b \n",
    "    l_ = set(line)\n",
    "    line=list(l_)\n",
    "    line.sort() \n",
    "    \n",
    "    return line\n",
    "\n",
    "function_result = list_union([-10, -5, 0, -1], [100, 9, 0, 9])\n",
    "print function_result      \n"
   ]
  },
  {
   "cell_type": "markdown",
   "metadata": {},
   "source": [
    "####[주석] list_union 함수 는 a,b인자 받는데 리스트 받는다고 가정, line에 초기값으로 a 넣어준다 \n",
    "#### 반복문은 a,b의 리스트 중에서 같은 정수 찾으면 b리스트에서 제거 한다\n",
    "#### 그러면 a,b리스트의 원소는 다른 것들로 채워진다 다 line에 넣어준다음  혹시 a리스트,b리스트 자체의 중복 원소\n",
    "#### 들이 있을지 모르니 set()함수로 없애주고 list type으로 전환해 준다\n",
    "#### 그리고 출력한다"
   ]
  },
  {
   "cell_type": "markdown",
   "metadata": {},
   "source": [
    "##[프로젝트 오일러 4번문제]\n",
    "앞에서부터 읽을 때나 뒤에서부터 읽을 때나 모양이 같은 수를 대칭수(palindrome)라고 부릅니다.\n",
    "\n",
    "두 자리 수를 곱해 만들 수 있는 대칭수 중 가장 큰 수는 9009 (= 91 × 99) 입니다.\n",
    "\n",
    "세 자리 수를 곱해 만들 수 있는 가장 큰 대칭수는 얼마입니까?"
   ]
  },
  {
   "cell_type": "code",
   "execution_count": 36,
   "metadata": {
    "collapsed": false
   },
   "outputs": [
    {
     "name": "stdout",
     "output_type": "stream",
     "text": [
      "906609\n"
     ]
    }
   ],
   "source": [
    "# -*- coding: utf-8 -*-\n",
    "k = 0\n",
    "number = 0\n",
    "number_ = 0\n",
    "big = 0         #최대값 저장하는 변수\n",
    "\n",
    "def reverse(k) :    #앞뒤를 뒤집는 식입니다.\n",
    "    t = 0\n",
    "    while(k) :\n",
    "        t *= 10\n",
    "        t = t + (k%10)\n",
    "        k /= 10\n",
    "    return t\n",
    "\n",
    "\n",
    "for x in range(1000) :\n",
    "    y = 0\n",
    "    for y in range(1000) :\n",
    "        result = k * y       \n",
    "        result_ = reverse(result)\n",
    "        #result_2 = result[::-1]     #뒤집어질까 했는데 안되네요\n",
    "        if(result == result_ and result > big) :\n",
    "            big = result\n",
    "            number = k\n",
    "            number_ = y\n",
    "        y += 1\n",
    "    k+= 1\n",
    "\n",
    "print big"
   ]
  },
  {
   "cell_type": "markdown",
   "metadata": {},
   "source": [
    "####[주석] 최대값 저장하는 변수 big\n",
    "####  앞뒤를 뒤집는 함수 reverse()만들어 뒤집는다\n",
    "#### 이중 반복문 돌려 뒤집은 다음\n",
    "#### 출력"
   ]
  },
  {
   "cell_type": "markdown",
   "metadata": {},
   "source": [
    "##[프로젝트 오일러 5번문제]\n",
    "1 ~ 10 사이의 어떤 수로도 나누어 떨어지는 가장 작은 수는 2520입니다.\n",
    "\n",
    "그러면 1 ~ 20 사이의 어떤 수로도 나누어 떨어지는 가장 작은 수는 얼마입니까?"
   ]
  },
  {
   "cell_type": "code",
   "execution_count": 32,
   "metadata": {
    "collapsed": false
   },
   "outputs": [
    {
     "name": "stdout",
     "output_type": "stream",
     "text": [
      "232792560\n"
     ]
    }
   ],
   "source": [
    "def big(a, b):\n",
    "  while (b != 0):\n",
    "    temp = a % b\n",
    "    a = b\n",
    "    b = temp\n",
    "  return abs(a)\n",
    "  \n",
    "def big_B(a, b):  \n",
    "  bigNum = big(a, b)\n",
    "  if (bigNum == 0): return \n",
    "  return abs( (a * b) / bigNum )\n",
    "result=1\n",
    "\n",
    "for x in range(1,21):\n",
    "    result = big_B(x,result)\n",
    "print result "
   ]
  },
  {
   "cell_type": "markdown",
   "metadata": {},
   "source": [
    "####[주석]  수학적 정의 이용 최대 공약수 구하는 함수 big 만든다 둘의 약수 중 최대 값 반복문 돌려서 구함\n",
    "#### 최소 공배수 -> 두수 곱한다음 최대공약수 bigNum으로 나누어 준다 \n",
    "#### 1~20까지 최소 공배수 구해서 result 에 저장\n",
    "#### 출력"
   ]
  },
  {
   "cell_type": "markdown",
   "metadata": {},
   "source": [
    "##[프로젝트 오일러 6번 문제]\n",
    "1부터 10까지 자연수를 각각 제곱해 더하면 다음과 같습니다 (제곱의 합).\n",
    "\n",
    "12 + 22 + ... + 102 = 385\n",
    "1부터 10을 먼저 더한 다음에 그 결과를 제곱하면 다음과 같습니다 (합의 제곱).\n",
    "\n",
    "(1 + 2 + ... + 10)2 = 552 = 3025\n",
    "따라서 1부터 10까지 자연수에 대해 \"합의 제곱\"과 \"제곱의 합\" 의 차이는 3025 - 385 = 2640 이 됩니다.\n",
    "\n",
    "그러면 1부터 100까지 자연수에 대해 \"합의 제곱\"과 \"제곱의 합\"의 차이는 얼마입니까?"
   ]
  },
  {
   "cell_type": "code",
   "execution_count": 33,
   "metadata": {
    "collapsed": false
   },
   "outputs": [
    {
     "name": "stdout",
     "output_type": "stream",
     "text": [
      "25164150\n"
     ]
    }
   ],
   "source": [
    "sum1=0\n",
    "sum2=0\n",
    "for x in range(1,101):\n",
    "    sum1+=(x*x)\n",
    "    sum2+=x\n",
    "print (sum2*sum2)-sum1 \n"
   ]
  },
  {
   "cell_type": "markdown",
   "metadata": {},
   "source": [
    "####[주석] 간단한 문제이다\n",
    "#### x가 1~100까지 반복문 중에 sum1에는 x의 제곱값을 계속 더해준다 sum1값은 이전 값과 계속 합쳐 더함\n",
    "#### sum2 는 1~100까지 모두 더한후 제곱을 해준다\n",
    "#### sum2가 더 크므로 sum2-sum1 후 출력"
   ]
  },
  {
   "cell_type": "markdown",
   "metadata": {},
   "source": [
    "### 저한테는 어려웠지만 최선을 다해보았습니다\n",
    "### 마지막 문제는 해보다가 안되서 결국 못했습니다 ㅠㅠ\n",
    "### 열심히 했습니다!!!!!"
   ]
  },
  {
   "cell_type": "code",
   "execution_count": null,
   "metadata": {
    "collapsed": true
   },
   "outputs": [],
   "source": []
  }
 ],
 "metadata": {
  "kernelspec": {
   "display_name": "Python 2",
   "language": "python",
   "name": "python2"
  },
  "language_info": {
   "codemirror_mode": {
    "name": "ipython",
    "version": 2
   },
   "file_extension": ".py",
   "mimetype": "text/x-python",
   "name": "python",
   "nbconvert_exporter": "python",
   "pygments_lexer": "ipython2",
   "version": "2.7.9"
  }
 },
 "nbformat": 4,
 "nbformat_minor": 0
}
